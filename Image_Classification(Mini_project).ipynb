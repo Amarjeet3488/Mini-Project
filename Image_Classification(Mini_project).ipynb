{
  "nbformat": 4,
  "nbformat_minor": 0,
  "metadata": {
    "colab": {
      "name": "Image Classification(Mini project).ipynb",
      "provenance": [],
      "collapsed_sections": [],
      "authorship_tag": "ABX9TyO85/ZrqtSJtj6TT8TsbiHs",
      "include_colab_link": true
    },
    "kernelspec": {
      "name": "python3",
      "display_name": "Python 3"
    }
  },
  "cells": [
    {
      "cell_type": "markdown",
      "metadata": {
        "id": "view-in-github",
        "colab_type": "text"
      },
      "source": [
        "<a href=\"https://colab.research.google.com/github/Amarjeet3488/Mini-Project/blob/main/Image_Classification(Mini_project).ipynb\" target=\"_parent\"><img src=\"https://colab.research.google.com/assets/colab-badge.svg\" alt=\"Open In Colab\"/></a>"
      ]
    },
    {
      "cell_type": "code",
      "metadata": {
        "id": "1K5ivXGf-YWl"
      },
      "source": [
        "# IMAGE CLASSIFICATION\n",
        "# MINI PROJECT\n",
        "# AMARJEET YADAV\n",
        "# amarjeet3488@gmail.com\n",
        "# using bing downloader for collecting data"
      ],
      "execution_count": null,
      "outputs": []
    },
    {
      "cell_type": "code",
      "metadata": {
        "id": "0-WJAuCiLUwB",
        "outputId": "ed531931-e3fd-46c9-d7f2-5648694806e7",
        "colab": {
          "base_uri": "https://localhost:8080/"
        }
      },
      "source": [
        "!pip install bing-image-downloader"
      ],
      "execution_count": 1,
      "outputs": [
        {
          "output_type": "stream",
          "text": [
            "Collecting bing-image-downloader\n",
            "  Downloading https://files.pythonhosted.org/packages/0d/bf/537a61030b84ae4cd5022d5c7b014fd9bc3ce7c02358919153a6658a61d3/bing_image_downloader-1.0.4-py3-none-any.whl\n",
            "Installing collected packages: bing-image-downloader\n",
            "Successfully installed bing-image-downloader-1.0.4\n"
          ],
          "name": "stdout"
        }
      ]
    },
    {
      "cell_type": "code",
      "metadata": {
        "id": "O0wC0rxiPruk"
      },
      "source": [
        "!mkdir images"
      ],
      "execution_count": 2,
      "outputs": []
    },
    {
      "cell_type": "code",
      "metadata": {
        "id": "p2soW1vCPwL0",
        "outputId": "0222561c-f969-4068-9754-3420f9884c14",
        "colab": {
          "base_uri": "https://localhost:8080/"
        }
      },
      "source": [
        "from bing_image_downloader import downloader\n",
        "downloader.download(\"birds\",limit=30,output_dir='images',adult_filter_off=True)"
      ],
      "execution_count": 3,
      "outputs": [
        {
          "output_type": "stream",
          "text": [
            "\n",
            "\n",
            "[!!]Indexing page: 1\n",
            "\n",
            "[%] Indexed 13 Images on Page 1.\n",
            "\n",
            "===============================================\n",
            "\n",
            "[%] Downloading Image #1 from https://wallpapersite.com/images/wallpapers/surreal-1080x1920-moon-scenery-purple-flowers-seascape-beach-5k-16101.jpg\n",
            "[!] Issue getting: https://wallpapersite.com/images/wallpapers/surreal-1080x1920-moon-scenery-purple-flowers-seascape-beach-5k-16101.jpg\n",
            "[!] Error:: HTTP Error 404: Not Found\n",
            "[%] Downloading Image #1 from https://wallpapersite.com/images/wallpapers/deadpool-1440x2560-artwork-4k-11337.jpg\n",
            "[!] Issue getting: https://wallpapersite.com/images/wallpapers/deadpool-1440x2560-artwork-4k-11337.jpg\n",
            "[!] Error:: HTTP Error 404: Not Found\n",
            "[%] Downloading Image #1 from https://www.hdwallpapers.in/download/amazing_sky-1280x720.jpg\n",
            "[%] File Downloaded !\n",
            "\n",
            "[%] Downloading Image #2 from https://www.setaswall.com/wp-content/uploads/2018/05/1080x2246-Wallpaper-225-380x790.jpg\n",
            "[%] File Downloaded !\n",
            "\n",
            "[%] Downloading Image #3 from http://www.hdwallpapers.in/download/beautiful_autumn_road-1680x1050.jpg\n",
            "[%] File Downloaded !\n",
            "\n",
            "[%] Downloading Image #4 from https://www.hdwallpapers.in/download/new_york_skyline-1920x1080.jpg\n",
            "[%] File Downloaded !\n",
            "\n",
            "[%] Downloading Image #5 from https://cdn.architecturendesign.net/wp-content/uploads/2015/12/AD-Cinder-Block-Projects-13.jpg\n",
            "[%] File Downloaded !\n",
            "\n",
            "[%] Downloading Image #6 from http://www.movienewz.com/img/gallery/godzilla/posters/godzilla_movie_poster_7.jpg\n",
            "[%] File Downloaded !\n",
            "\n",
            "[%] Downloading Image #7 from https://wallpapersite.com/images/wallpapers/man-2560x1440-standing-mountain-top-space-peak-4k-6159.jpg\n",
            "[!] Issue getting: https://wallpapersite.com/images/wallpapers/man-2560x1440-standing-mountain-top-space-peak-4k-6159.jpg\n",
            "[!] Error:: HTTP Error 404: Not Found\n",
            "[%] Downloading Image #7 from https://www.setaswall.com/wp-content/uploads/2017/10/Fire-Ring-Wallpaper-1080x2160-380x760.jpg\n",
            "[%] File Downloaded !\n",
            "\n",
            "[%] Downloading Image #8 from https://www.barnorama.com/wp-content/uploads/2019/07/Scary-Weird-Strange-and-Creepy-13.jpg\n",
            "[%] File Downloaded !\n",
            "\n",
            "[%] Downloading Image #9 from http://www.geeknaut.com/images/2010/09/Porsche-retina-wallpaper-570x855.jpg\n",
            "[%] File Downloaded !\n",
            "\n",
            "[%] Downloading Image #10 from https://wallpapersite.com/images/wallpapers/polar-bear-720x1280-big-bear-kids-boy-girl-hd-3902.jpg\n",
            "[!] Issue getting: https://wallpapersite.com/images/wallpapers/polar-bear-720x1280-big-bear-kids-boy-girl-hd-3902.jpg\n",
            "[!] Error:: HTTP Error 404: Not Found\n",
            "\n",
            "\n",
            "[!!]Indexing page: 2\n",
            "\n",
            "[%] Indexed 13 Images on Page 2.\n",
            "\n",
            "===============================================\n",
            "\n",
            "[%] Downloading Image #10 from https://wallpapersite.com/images/wallpapers/surreal-1080x1920-moon-scenery-purple-flowers-seascape-beach-5k-16101.jpg\n",
            "[!] Issue getting: https://wallpapersite.com/images/wallpapers/surreal-1080x1920-moon-scenery-purple-flowers-seascape-beach-5k-16101.jpg\n",
            "[!] Error:: HTTP Error 404: Not Found\n",
            "[%] Downloading Image #10 from https://wallpapersite.com/images/wallpapers/deadpool-1440x2560-artwork-4k-11337.jpg\n",
            "[!] Issue getting: https://wallpapersite.com/images/wallpapers/deadpool-1440x2560-artwork-4k-11337.jpg\n",
            "[!] Error:: HTTP Error 404: Not Found\n",
            "[%] Downloading Image #10 from https://www.hdwallpapers.in/download/amazing_sky-1280x720.jpg\n",
            "[%] File Downloaded !\n",
            "\n",
            "[%] Downloading Image #11 from https://www.setaswall.com/wp-content/uploads/2018/05/1080x2246-Wallpaper-225-380x790.jpg\n",
            "[%] File Downloaded !\n",
            "\n",
            "[%] Downloading Image #12 from http://www.hdwallpapers.in/download/beautiful_autumn_road-1680x1050.jpg\n",
            "[%] File Downloaded !\n",
            "\n",
            "[%] Downloading Image #13 from https://www.hdwallpapers.in/download/new_york_skyline-1920x1080.jpg\n",
            "[%] File Downloaded !\n",
            "\n",
            "[%] Downloading Image #14 from https://cdn.architecturendesign.net/wp-content/uploads/2015/12/AD-Cinder-Block-Projects-13.jpg\n",
            "[%] File Downloaded !\n",
            "\n",
            "[%] Downloading Image #15 from http://www.movienewz.com/img/gallery/godzilla/posters/godzilla_movie_poster_7.jpg\n",
            "[%] File Downloaded !\n",
            "\n",
            "[%] Downloading Image #16 from https://wallpapersite.com/images/wallpapers/man-2560x1440-standing-mountain-top-space-peak-4k-6159.jpg\n",
            "[!] Issue getting: https://wallpapersite.com/images/wallpapers/man-2560x1440-standing-mountain-top-space-peak-4k-6159.jpg\n",
            "[!] Error:: HTTP Error 404: Not Found\n",
            "[%] Downloading Image #16 from https://www.setaswall.com/wp-content/uploads/2017/10/Fire-Ring-Wallpaper-1080x2160-380x760.jpg\n",
            "[%] File Downloaded !\n",
            "\n",
            "[%] Downloading Image #17 from https://www.barnorama.com/wp-content/uploads/2019/07/Scary-Weird-Strange-and-Creepy-13.jpg\n",
            "[%] File Downloaded !\n",
            "\n",
            "[%] Downloading Image #18 from http://www.geeknaut.com/images/2010/09/Porsche-retina-wallpaper-570x855.jpg\n",
            "[%] File Downloaded !\n",
            "\n",
            "[%] Downloading Image #19 from https://wallpapersite.com/images/wallpapers/polar-bear-720x1280-big-bear-kids-boy-girl-hd-3902.jpg\n",
            "[!] Issue getting: https://wallpapersite.com/images/wallpapers/polar-bear-720x1280-big-bear-kids-boy-girl-hd-3902.jpg\n",
            "[!] Error:: HTTP Error 404: Not Found\n",
            "\n",
            "\n",
            "[!!]Indexing page: 3\n",
            "\n",
            "[%] Indexed 12 Images on Page 3.\n",
            "\n",
            "===============================================\n",
            "\n",
            "[%] Downloading Image #19 from https://www.hdwallpapers.in/download/amazing_sky-1280x720.jpg\n",
            "[%] File Downloaded !\n",
            "\n",
            "[%] Downloading Image #20 from http://www.movienewz.com/img/gallery/godzilla/posters/godzilla_movie_poster_7.jpg\n",
            "[%] File Downloaded !\n",
            "\n",
            "[%] Downloading Image #21 from https://wallpapersite.com/images/wallpapers/man-2560x1440-standing-mountain-top-space-peak-4k-6159.jpg\n",
            "[!] Issue getting: https://wallpapersite.com/images/wallpapers/man-2560x1440-standing-mountain-top-space-peak-4k-6159.jpg\n",
            "[!] Error:: HTTP Error 404: Not Found\n",
            "[%] Downloading Image #21 from https://www.hdwallpapers.in/download/new_york_skyline-1920x1080.jpg\n",
            "[%] File Downloaded !\n",
            "\n",
            "[%] Downloading Image #22 from https://cdn.architecturendesign.net/wp-content/uploads/2015/12/AD-Cinder-Block-Projects-13.jpg\n",
            "[%] File Downloaded !\n",
            "\n",
            "[%] Downloading Image #23 from https://www.setaswall.com/wp-content/uploads/2017/10/Fire-Ring-Wallpaper-1080x2160-380x760.jpg\n",
            "[%] File Downloaded !\n",
            "\n",
            "[%] Downloading Image #24 from https://www.barnorama.com/wp-content/uploads/2019/07/Scary-Weird-Strange-and-Creepy-13.jpg\n",
            "[%] File Downloaded !\n",
            "\n",
            "[%] Downloading Image #25 from http://www.geeknaut.com/images/2010/09/Porsche-retina-wallpaper-570x855.jpg\n",
            "[%] File Downloaded !\n",
            "\n",
            "[%] Downloading Image #26 from https://wallpapersite.com/images/wallpapers/deadpool-1440x2560-artwork-4k-11337.jpg\n",
            "[!] Issue getting: https://wallpapersite.com/images/wallpapers/deadpool-1440x2560-artwork-4k-11337.jpg\n",
            "[!] Error:: HTTP Error 404: Not Found\n",
            "[%] Downloading Image #26 from https://www.setaswall.com/wp-content/uploads/2018/05/1080x2246-Wallpaper-225-380x790.jpg\n",
            "[%] File Downloaded !\n",
            "\n",
            "[%] Downloading Image #27 from http://www.hdwallpapers.in/download/beautiful_autumn_road-1680x1050.jpg\n",
            "[%] File Downloaded !\n",
            "\n",
            "[%] Downloading Image #28 from https://wallpapersite.com/images/wallpapers/polar-bear-720x1280-big-bear-kids-boy-girl-hd-3902.jpg\n",
            "[!] Issue getting: https://wallpapersite.com/images/wallpapers/polar-bear-720x1280-big-bear-kids-boy-girl-hd-3902.jpg\n",
            "[!] Error:: HTTP Error 404: Not Found\n",
            "\n",
            "\n",
            "[!!]Indexing page: 4\n",
            "\n",
            "[%] Indexed 6 Images on Page 4.\n",
            "\n",
            "===============================================\n",
            "\n",
            "[%] Downloading Image #28 from https://cdn.architecturendesign.net/wp-content/uploads/2015/12/AD-Cinder-Block-Projects-13.jpg\n",
            "[%] File Downloaded !\n",
            "\n",
            "[%] Downloading Image #29 from https://www.setaswall.com/wp-content/uploads/2017/10/Fire-Ring-Wallpaper-1080x2160-380x760.jpg\n",
            "[%] File Downloaded !\n",
            "\n",
            "[%] Downloading Image #30 from https://www.setaswall.com/wp-content/uploads/2018/05/1080x2246-Wallpaper-225-380x790.jpg\n",
            "[%] File Downloaded !\n",
            "\n",
            "\n",
            "\n",
            "[%] Done. Downloaded 30 images.\n",
            "\n",
            "===============================================\n",
            "\n"
          ],
          "name": "stdout"
        }
      ]
    },
    {
      "cell_type": "code",
      "metadata": {
        "id": "8O9rz4fEQL7X",
        "outputId": "9315bb35-cb0f-4972-c88d-265661585cb4",
        "colab": {
          "base_uri": "https://localhost:8080/"
        }
      },
      "source": [
        "from bing_image_downloader import downloader\n",
        "downloader.download(\"cats\",limit=30,output_dir='images',adult_filter_off=True)"
      ],
      "execution_count": 4,
      "outputs": [
        {
          "output_type": "stream",
          "text": [
            "\n",
            "\n",
            "[!!]Indexing page: 1\n",
            "\n",
            "[%] Indexed 13 Images on Page 1.\n",
            "\n",
            "===============================================\n",
            "\n",
            "[%] Downloading Image #1 from https://designbump.com/wp-content/uploads/2014/09/funny-jumping-cats-94__880.jpg\n",
            "[%] File Downloaded !\n",
            "\n",
            "[%] Downloading Image #2 from http://www.pickchur.com/wp-content/uploads/2013/05/Satrical-Art-by-Paul-Kuczynski-12.jpg\n",
            "[%] File Downloaded !\n",
            "\n",
            "[%] Downloading Image #3 from https://www.cardcow.com/images/set287/card00440_fr.jpg\n",
            "[%] File Downloaded !\n",
            "\n",
            "[%] Downloading Image #4 from https://www.tucucu.com/wp-content/uploads/2014/11/gato-ropa-moda241.jpg\n",
            "[%] File Downloaded !\n",
            "\n",
            "[%] Downloading Image #5 from https://www.wallpapers13.com/wp-content/uploads/2016/01/Cascade-waterfall-with-exotic-tropical-vegetation-green-trees-sparkling-water-rock-Erawan-Falls-National-Park-Thailand-Desktop-HD-Wallpapers-for-mobile-phones-and-computer-3840x2400.jpg\n",
            "[%] File Downloaded !\n",
            "\n",
            "[%] Downloading Image #6 from https://www.cardcow.com/images/set445/card00393_fr.jpg\n",
            "[%] File Downloaded !\n",
            "\n",
            "[%] Downloading Image #7 from https://www.funcage.com/blog/wp-content/uploads/2013/01/Daily-Dose-of-Cats-013-550x733.jpg\n",
            "[%] File Downloaded !\n",
            "\n",
            "[%] Downloading Image #8 from http://lomets.com/wp-content/uploads/2017/03/bc7aa92e37d0130c2aa871e7fe5d15b7-250x403.jpg\n",
            "[%] File Downloaded !\n",
            "\n",
            "[%] Downloading Image #9 from https://3.bp.blogspot.com/-XLyBgoHmn1k/VGTa_3RxYLI/AAAAAAABFzc/EWGogDHGqAo/s1600/People%2Bwith%2BTheir%2BCats%2Bfrom%2Bthe%2B1920s%2B(14).jpg\n",
            "[%] File Downloaded !\n",
            "\n",
            "[%] Downloading Image #10 from https://i.pinimg.com/736x/e7/a1/05/e7a1053d5f7d9668570448c19b0f0063--wolf-howling-white-wolves.jpg\n",
            "[%] File Downloaded !\n",
            "\n",
            "[%] Downloading Image #11 from http://cdn.themindcircle.com/wp-content/uploads/2017/08/funny-cat-fails-6.jpg\n",
            "[%] File Downloaded !\n",
            "\n",
            "[%] Downloading Image #12 from https://i.chzbgr.com/original/2846085376/h024E8B56/\n",
            "[%] File Downloaded !\n",
            "\n",
            "[%] Downloading Image #13 from https://wanna-joke.com/wp-content/uploads/2013/12/funny-picture-Vodka-Tequila-bottle-drink.jpg\n",
            "[%] File Downloaded !\n",
            "\n",
            "\n",
            "\n",
            "[!!]Indexing page: 2\n",
            "\n",
            "[%] Indexed 13 Images on Page 2.\n",
            "\n",
            "===============================================\n",
            "\n",
            "[%] Downloading Image #14 from https://designbump.com/wp-content/uploads/2014/09/funny-jumping-cats-94__880.jpg\n",
            "[%] File Downloaded !\n",
            "\n",
            "[%] Downloading Image #15 from http://www.pickchur.com/wp-content/uploads/2013/05/Satrical-Art-by-Paul-Kuczynski-12.jpg\n",
            "[%] File Downloaded !\n",
            "\n",
            "[%] Downloading Image #16 from https://www.cardcow.com/images/set287/card00440_fr.jpg\n",
            "[%] File Downloaded !\n",
            "\n",
            "[%] Downloading Image #17 from https://www.tucucu.com/wp-content/uploads/2014/11/gato-ropa-moda241.jpg\n",
            "[%] File Downloaded !\n",
            "\n",
            "[%] Downloading Image #18 from https://www.wallpapers13.com/wp-content/uploads/2016/01/Cascade-waterfall-with-exotic-tropical-vegetation-green-trees-sparkling-water-rock-Erawan-Falls-National-Park-Thailand-Desktop-HD-Wallpapers-for-mobile-phones-and-computer-3840x2400.jpg\n",
            "[%] File Downloaded !\n",
            "\n",
            "[%] Downloading Image #19 from https://www.cardcow.com/images/set445/card00393_fr.jpg\n",
            "[%] File Downloaded !\n",
            "\n",
            "[%] Downloading Image #20 from https://www.funcage.com/blog/wp-content/uploads/2013/01/Daily-Dose-of-Cats-013-550x733.jpg\n",
            "[%] File Downloaded !\n",
            "\n",
            "[%] Downloading Image #21 from http://lomets.com/wp-content/uploads/2017/03/bc7aa92e37d0130c2aa871e7fe5d15b7-250x403.jpg\n",
            "[%] File Downloaded !\n",
            "\n",
            "[%] Downloading Image #22 from https://3.bp.blogspot.com/-XLyBgoHmn1k/VGTa_3RxYLI/AAAAAAABFzc/EWGogDHGqAo/s1600/People%2Bwith%2BTheir%2BCats%2Bfrom%2Bthe%2B1920s%2B(14).jpg\n",
            "[%] File Downloaded !\n",
            "\n",
            "[%] Downloading Image #23 from https://i.pinimg.com/736x/e7/a1/05/e7a1053d5f7d9668570448c19b0f0063--wolf-howling-white-wolves.jpg\n",
            "[%] File Downloaded !\n",
            "\n",
            "[%] Downloading Image #24 from http://cdn.themindcircle.com/wp-content/uploads/2017/08/funny-cat-fails-6.jpg\n",
            "[%] File Downloaded !\n",
            "\n",
            "[%] Downloading Image #25 from https://i.chzbgr.com/original/2846085376/h024E8B56/\n",
            "[%] File Downloaded !\n",
            "\n",
            "[%] Downloading Image #26 from https://wanna-joke.com/wp-content/uploads/2013/12/funny-picture-Vodka-Tequila-bottle-drink.jpg\n",
            "[%] File Downloaded !\n",
            "\n",
            "\n",
            "\n",
            "[!!]Indexing page: 3\n",
            "\n",
            "[%] Indexed 12 Images on Page 3.\n",
            "\n",
            "===============================================\n",
            "\n",
            "[%] Downloading Image #27 from https://www.cardcow.com/images/set287/card00440_fr.jpg\n",
            "[%] File Downloaded !\n",
            "\n",
            "[%] Downloading Image #28 from https://i.pinimg.com/736x/e7/a1/05/e7a1053d5f7d9668570448c19b0f0063--wolf-howling-white-wolves.jpg\n",
            "[%] File Downloaded !\n",
            "\n",
            "[%] Downloading Image #29 from https://www.cardcow.com/images/set445/card00393_fr.jpg\n",
            "[%] File Downloaded !\n",
            "\n",
            "[%] Downloading Image #30 from https://3.bp.blogspot.com/-XLyBgoHmn1k/VGTa_3RxYLI/AAAAAAABFzc/EWGogDHGqAo/s1600/People%2Bwith%2BTheir%2BCats%2Bfrom%2Bthe%2B1920s%2B(14).jpg\n",
            "[%] File Downloaded !\n",
            "\n",
            "\n",
            "\n",
            "[%] Done. Downloaded 30 images.\n",
            "\n",
            "===============================================\n",
            "\n"
          ],
          "name": "stdout"
        }
      ]
    },
    {
      "cell_type": "code",
      "metadata": {
        "id": "zwjsxNCOQXt-",
        "outputId": "13aadbbd-c41f-431a-f970-737c63095130",
        "colab": {
          "base_uri": "https://localhost:8080/"
        }
      },
      "source": [
        "from bing_image_downloader import downloader\n",
        "downloader.download(\"dogs\",limit=30,output_dir='images',adult_filter_off=True)"
      ],
      "execution_count": 5,
      "outputs": [
        {
          "output_type": "stream",
          "text": [
            "\n",
            "\n",
            "[!!]Indexing page: 1\n",
            "\n",
            "[%] Indexed 13 Images on Page 1.\n",
            "\n",
            "===============================================\n",
            "\n",
            "[%] Downloading Image #1 from https://wallpapersite.com/images/wallpapers/hacker-1920x1080-marcus-watch-dogs-2-1158.jpg\n",
            "[!] Issue getting: https://wallpapersite.com/images/wallpapers/hacker-1920x1080-marcus-watch-dogs-2-1158.jpg\n",
            "[!] Error:: HTTP Error 404: Not Found\n",
            "[%] Downloading Image #1 from http://www.dumpaday.com/wp-content/uploads/2016/11/funny-dogs-snapchat-13.jpg\n",
            "[%] File Downloaded !\n",
            "\n",
            "[%] Downloading Image #2 from http://allisonragsdalephotography.com/wp-content/uploads/2013/08/allisonragsdalephotography-3593.jpg\n",
            "[%] File Downloaded !\n",
            "\n",
            "[%] Downloading Image #3 from https://imjussayin.co/wp-content/uploads/2013/07/pet-shaming6.jpg\n",
            "[%] File Downloaded !\n",
            "\n",
            "[%] Downloading Image #4 from http://www.animals-zone.com/wp-content/uploads/2014/04/dog-expressions.jpg\n",
            "[%] File Downloaded !\n",
            "\n",
            "[%] Downloading Image #5 from http://lomets.com/wp-content/uploads/2016/07/9ac4d8d23f27bc6fa8fcb765dbb00052.jpg\n",
            "[%] File Downloaded !\n",
            "\n",
            "[%] Downloading Image #6 from https://www.seenox.org/wp-content/uploads/2014/03/Naughty-Dogs-19.jpg\n",
            "[%] File Downloaded !\n",
            "\n",
            "[%] Downloading Image #7 from https://wallpapersite.com/images/wallpapers/labrador-retriever-1440x2560-puppy-dog-hd-4k-3006.jpg\n",
            "[!] Issue getting: https://wallpapersite.com/images/wallpapers/labrador-retriever-1440x2560-puppy-dog-hd-4k-3006.jpg\n",
            "[!] Error:: HTTP Error 404: Not Found\n",
            "[%] Downloading Image #7 from https://wallpapersite.com/images/wallpapers/watch-dogs-2-2048x1536-marcus-hacker-4k-1165.jpg\n",
            "[!] Issue getting: https://wallpapersite.com/images/wallpapers/watch-dogs-2-2048x1536-marcus-hacker-4k-1165.jpg\n",
            "[!] Error:: HTTP Error 404: Not Found\n",
            "[%] Downloading Image #7 from https://wallpapersite.com/images/wallpapers/dog-1440x2560-dusk-beach-seashore-hd-5k-4204.jpg\n",
            "[!] Issue getting: https://wallpapersite.com/images/wallpapers/dog-1440x2560-dusk-beach-seashore-hd-5k-4204.jpg\n",
            "[!] Error:: HTTP Error 404: Not Found\n",
            "[%] Downloading Image #7 from https://www.lifewithdogs.tv/wp-content/uploads/2014/03/3.21.14-National-Puppy-Day32.jpg\n",
            "[%] File Downloaded !\n",
            "\n",
            "[%] Downloading Image #8 from https://i.pinimg.com/736x/28/f2/97/28f297f181dcd98d3005790b70194b25.jpg\n",
            "[%] File Downloaded !\n",
            "\n",
            "[%] Downloading Image #9 from https://www.candogseat-this.com/wp-content/uploads/2014/11/thanksgiving-dog-hat.jpeg\n",
            "[%] File Downloaded !\n",
            "\n",
            "\n",
            "\n",
            "[!!]Indexing page: 2\n",
            "\n",
            "[%] Indexed 13 Images on Page 2.\n",
            "\n",
            "===============================================\n",
            "\n",
            "[%] Downloading Image #10 from https://wallpapersite.com/images/wallpapers/hacker-1920x1080-marcus-watch-dogs-2-1158.jpg\n",
            "[!] Issue getting: https://wallpapersite.com/images/wallpapers/hacker-1920x1080-marcus-watch-dogs-2-1158.jpg\n",
            "[!] Error:: HTTP Error 404: Not Found\n",
            "[%] Downloading Image #10 from http://www.dumpaday.com/wp-content/uploads/2016/11/funny-dogs-snapchat-13.jpg\n",
            "[%] File Downloaded !\n",
            "\n",
            "[%] Downloading Image #11 from http://allisonragsdalephotography.com/wp-content/uploads/2013/08/allisonragsdalephotography-3593.jpg\n",
            "[%] File Downloaded !\n",
            "\n",
            "[%] Downloading Image #12 from https://imjussayin.co/wp-content/uploads/2013/07/pet-shaming6.jpg\n",
            "[%] File Downloaded !\n",
            "\n",
            "[%] Downloading Image #13 from http://www.animals-zone.com/wp-content/uploads/2014/04/dog-expressions.jpg\n",
            "[%] File Downloaded !\n",
            "\n",
            "[%] Downloading Image #14 from http://lomets.com/wp-content/uploads/2016/07/9ac4d8d23f27bc6fa8fcb765dbb00052.jpg\n",
            "[%] File Downloaded !\n",
            "\n",
            "[%] Downloading Image #15 from https://www.seenox.org/wp-content/uploads/2014/03/Naughty-Dogs-19.jpg\n",
            "[%] File Downloaded !\n",
            "\n",
            "[%] Downloading Image #16 from https://wallpapersite.com/images/wallpapers/labrador-retriever-1440x2560-puppy-dog-hd-4k-3006.jpg\n",
            "[!] Issue getting: https://wallpapersite.com/images/wallpapers/labrador-retriever-1440x2560-puppy-dog-hd-4k-3006.jpg\n",
            "[!] Error:: HTTP Error 404: Not Found\n",
            "[%] Downloading Image #16 from https://wallpapersite.com/images/wallpapers/watch-dogs-2-2048x1536-marcus-hacker-4k-1165.jpg\n",
            "[!] Issue getting: https://wallpapersite.com/images/wallpapers/watch-dogs-2-2048x1536-marcus-hacker-4k-1165.jpg\n",
            "[!] Error:: HTTP Error 404: Not Found\n",
            "[%] Downloading Image #16 from https://wallpapersite.com/images/wallpapers/dog-1440x2560-dusk-beach-seashore-hd-5k-4204.jpg\n",
            "[!] Issue getting: https://wallpapersite.com/images/wallpapers/dog-1440x2560-dusk-beach-seashore-hd-5k-4204.jpg\n",
            "[!] Error:: HTTP Error 404: Not Found\n",
            "[%] Downloading Image #16 from https://www.lifewithdogs.tv/wp-content/uploads/2014/03/3.21.14-National-Puppy-Day32.jpg\n",
            "[%] File Downloaded !\n",
            "\n",
            "[%] Downloading Image #17 from https://i.pinimg.com/736x/28/f2/97/28f297f181dcd98d3005790b70194b25.jpg\n",
            "[%] File Downloaded !\n",
            "\n",
            "[%] Downloading Image #18 from https://www.candogseat-this.com/wp-content/uploads/2014/11/thanksgiving-dog-hat.jpeg\n",
            "[%] File Downloaded !\n",
            "\n",
            "\n",
            "\n",
            "[!!]Indexing page: 3\n",
            "\n",
            "[%] Indexed 12 Images on Page 3.\n",
            "\n",
            "===============================================\n",
            "\n",
            "[%] Downloading Image #19 from https://imjussayin.co/wp-content/uploads/2013/07/pet-shaming6.jpg\n",
            "[%] File Downloaded !\n",
            "\n",
            "[%] Downloading Image #20 from http://www.animals-zone.com/wp-content/uploads/2014/04/dog-expressions.jpg\n",
            "[%] File Downloaded !\n",
            "\n",
            "[%] Downloading Image #21 from http://lomets.com/wp-content/uploads/2016/07/9ac4d8d23f27bc6fa8fcb765dbb00052.jpg\n",
            "[%] File Downloaded !\n",
            "\n",
            "[%] Downloading Image #22 from https://www.seenox.org/wp-content/uploads/2014/03/Naughty-Dogs-19.jpg\n",
            "[%] File Downloaded !\n",
            "\n",
            "[%] Downloading Image #23 from https://wallpapersite.com/images/wallpapers/labrador-retriever-1440x2560-puppy-dog-hd-4k-3006.jpg\n",
            "[!] Issue getting: https://wallpapersite.com/images/wallpapers/labrador-retriever-1440x2560-puppy-dog-hd-4k-3006.jpg\n",
            "[!] Error:: HTTP Error 404: Not Found\n",
            "[%] Downloading Image #23 from http://allisonragsdalephotography.com/wp-content/uploads/2013/08/allisonragsdalephotography-3593.jpg\n",
            "[%] File Downloaded !\n",
            "\n",
            "[%] Downloading Image #24 from https://www.lifewithdogs.tv/wp-content/uploads/2014/03/3.21.14-National-Puppy-Day32.jpg\n",
            "[%] File Downloaded !\n",
            "\n",
            "[%] Downloading Image #25 from https://i.pinimg.com/736x/28/f2/97/28f297f181dcd98d3005790b70194b25.jpg\n",
            "[%] File Downloaded !\n",
            "\n",
            "[%] Downloading Image #26 from https://www.candogseat-this.com/wp-content/uploads/2014/11/thanksgiving-dog-hat.jpeg\n",
            "[%] File Downloaded !\n",
            "\n",
            "[%] Downloading Image #27 from http://www.dumpaday.com/wp-content/uploads/2016/11/funny-dogs-snapchat-13.jpg\n",
            "[%] File Downloaded !\n",
            "\n",
            "[%] Downloading Image #28 from https://wallpapersite.com/images/wallpapers/watch-dogs-2-2048x1536-marcus-hacker-4k-1165.jpg\n",
            "[!] Issue getting: https://wallpapersite.com/images/wallpapers/watch-dogs-2-2048x1536-marcus-hacker-4k-1165.jpg\n",
            "[!] Error:: HTTP Error 404: Not Found\n",
            "[%] Downloading Image #28 from https://wallpapersite.com/images/wallpapers/dog-1440x2560-dusk-beach-seashore-hd-5k-4204.jpg\n",
            "[!] Issue getting: https://wallpapersite.com/images/wallpapers/dog-1440x2560-dusk-beach-seashore-hd-5k-4204.jpg\n",
            "[!] Error:: HTTP Error 404: Not Found\n",
            "\n",
            "\n",
            "[!!]Indexing page: 4\n",
            "\n",
            "[%] Indexed 11 Images on Page 4.\n",
            "\n",
            "===============================================\n",
            "\n",
            "[%] Downloading Image #28 from https://www.seenox.org/wp-content/uploads/2014/03/Naughty-Dogs-19.jpg\n",
            "[%] File Downloaded !\n",
            "\n",
            "[%] Downloading Image #29 from http://allisonragsdalephotography.com/wp-content/uploads/2013/08/allisonragsdalephotography-3593.jpg\n",
            "[%] File Downloaded !\n",
            "\n",
            "[%] Downloading Image #30 from https://wallpapersite.com/images/wallpapers/labrador-retriever-1440x2560-puppy-dog-hd-4k-3006.jpg\n",
            "[!] Issue getting: https://wallpapersite.com/images/wallpapers/labrador-retriever-1440x2560-puppy-dog-hd-4k-3006.jpg\n",
            "[!] Error:: HTTP Error 404: Not Found\n",
            "[%] Downloading Image #30 from https://wallpapersite.com/images/wallpapers/dog-1440x2560-dusk-beach-seashore-hd-5k-4204.jpg\n",
            "[!] Issue getting: https://wallpapersite.com/images/wallpapers/dog-1440x2560-dusk-beach-seashore-hd-5k-4204.jpg\n",
            "[!] Error:: HTTP Error 404: Not Found\n",
            "[%] Downloading Image #30 from https://www.lifewithdogs.tv/wp-content/uploads/2014/03/3.21.14-National-Puppy-Day32.jpg\n",
            "[%] File Downloaded !\n",
            "\n",
            "\n",
            "\n",
            "[%] Done. Downloaded 30 images.\n",
            "\n",
            "===============================================\n",
            "\n"
          ],
          "name": "stdout"
        }
      ]
    },
    {
      "cell_type": "code",
      "metadata": {
        "id": "D25vXZogQdaS",
        "outputId": "2f3e561a-d80f-4b44-9147-7d8fa1b0cf12",
        "colab": {
          "base_uri": "https://localhost:8080/"
        }
      },
      "source": [
        "#  Preprocessing Data\n",
        "\n",
        "import os\n",
        "import matplotlib.pyplot as plt\n",
        "import numpy as np\n",
        "from skimage.io import imread\n",
        "from skimage.transform import resize \n",
        "\n",
        "target = []\n",
        "images = []\n",
        "flat_data = []\n",
        "\n",
        "DATADIR = '/content/images'\n",
        "CATEGORIES = ['birds','cats','dogs']\n",
        "\n",
        "\n",
        "for category in CATEGORIES:\n",
        "  class_num = CATEGORIES.index(category)\n",
        "  path = os.path.join(DATADIR,category)\n",
        "  print(path)\n",
        "  for img in os.listdir(path):\n",
        "    img_array = imread(os.path.join(path,img))\n",
        "    #print(img_array.shape)\n",
        "    #plt.imshow(img_array)\n",
        "    img_resized = resize(img_array,(150,150,3)) # normalizes the value from 0 to 1\n",
        "    flat_data.append(img_resized.flatten())\n",
        "    images.append(img_resized)\n",
        "    target.append(class_num)\n",
        "\n",
        "flat_data = np.array(flat_data)\n",
        "target = np.array(target)\n",
        "images = np.array(images)\n",
        "    "
      ],
      "execution_count": 6,
      "outputs": [
        {
          "output_type": "stream",
          "text": [
            "/content/images/birds\n",
            "/content/images/cats\n",
            "/content/images/dogs\n"
          ],
          "name": "stdout"
        }
      ]
    },
    {
      "cell_type": "code",
      "metadata": {
        "id": "KTzflITyQ4Fs",
        "outputId": "c2a83432-d004-4b5e-e187-afb33f126fbd",
        "colab": {
          "base_uri": "https://localhost:8080/"
        }
      },
      "source": [
        "len(flat_data[0])"
      ],
      "execution_count": 7,
      "outputs": [
        {
          "output_type": "execute_result",
          "data": {
            "text/plain": [
              "67500"
            ]
          },
          "metadata": {
            "tags": []
          },
          "execution_count": 7
        }
      ]
    },
    {
      "cell_type": "code",
      "metadata": {
        "id": "03qTbkNfRJKI",
        "outputId": "4264901d-bbea-4c39-e8fd-5457c45c86d4",
        "colab": {
          "base_uri": "https://localhost:8080/"
        }
      },
      "source": [
        "target"
      ],
      "execution_count": 8,
      "outputs": [
        {
          "output_type": "execute_result",
          "data": {
            "text/plain": [
              "array([0, 0, 0, 0, 0, 0, 0, 0, 0, 0, 0, 0, 0, 0, 0, 0, 0, 0, 0, 0, 0, 0,\n",
              "       0, 0, 0, 0, 0, 0, 0, 0, 1, 1, 1, 1, 1, 1, 1, 1, 1, 1, 1, 1, 1, 1,\n",
              "       1, 1, 1, 1, 1, 1, 1, 1, 1, 1, 1, 1, 1, 1, 1, 1, 2, 2, 2, 2, 2, 2,\n",
              "       2, 2, 2, 2, 2, 2, 2, 2, 2, 2, 2, 2, 2, 2, 2, 2, 2, 2, 2, 2, 2, 2,\n",
              "       2, 2])"
            ]
          },
          "metadata": {
            "tags": []
          },
          "execution_count": 8
        }
      ]
    },
    {
      "cell_type": "code",
      "metadata": {
        "id": "2_uTKOeRRNfD",
        "outputId": "f2dae035-db36-4c14-b727-9b017e376997",
        "colab": {
          "base_uri": "https://localhost:8080/",
          "height": 283
        }
      },
      "source": [
        "unique,count = np.unique(target,return_counts=True)\n",
        "plt.bar(CATEGORIES,count)"
      ],
      "execution_count": 9,
      "outputs": [
        {
          "output_type": "execute_result",
          "data": {
            "text/plain": [
              "<BarContainer object of 3 artists>"
            ]
          },
          "metadata": {
            "tags": []
          },
          "execution_count": 9
        },
        {
          "output_type": "display_data",
          "data": {
            "image/png": "[encoded data removed]",
            "text/plain": [
              "<Figure size 432x288 with 1 Axes>"
            ]
          },
          "metadata": {
            "tags": [],
            "needs_background": "light"
          }
        }
      ]
    },
    {
      "cell_type": "code",
      "metadata": {
        "id": "G2RjUZMNRSNL"
      },
      "source": [
        "# Split data into Training and testing\n",
        "\n",
        "from sklearn.model_selection import train_test_split\n",
        "x_train,x_test,y_train,y_test = train_test_split(flat_data,target,test_size=0.3,random_state=109)\n"
      ],
      "execution_count": 10,
      "outputs": []
    },
    {
      "cell_type": "code",
      "metadata": {
        "id": "6apS0GwmRZHY",
        "outputId": "574db48a-19c3-4c83-af8d-fe73955a380a",
        "colab": {
          "base_uri": "https://localhost:8080/"
        }
      },
      "source": [
        "from sklearn.model_selection import GridSearchCV\n",
        "from sklearn import svm\n",
        "param_grid = [\n",
        "              {'C':[1,10,100,1000],'kernel':['linear']},    \n",
        "              {'C':[1,10,100,1000],'gamma':[0.001,0.0001],'kernel':['rbf']},\n",
        "]\n",
        "\n",
        "svc = svm.SVC(probability=True)\n",
        "clf = GridSearchCV(svc,param_grid)\n",
        "clf.fit(x_train,y_train)"
      ],
      "execution_count": 11,
      "outputs": [
        {
          "output_type": "execute_result",
          "data": {
            "text/plain": [
              "GridSearchCV(cv=None, error_score=nan,\n",
              "             estimator=SVC(C=1.0, break_ties=False, cache_size=200,\n",
              "                           class_weight=None, coef0=0.0,\n",
              "                           decision_function_shape='ovr', degree=3,\n",
              "                           gamma='scale', kernel='rbf', max_iter=-1,\n",
              "                           probability=True, random_state=None, shrinking=True,\n",
              "                           tol=0.001, verbose=False),\n",
              "             iid='deprecated', n_jobs=None,\n",
              "             param_grid=[{'C': [1, 10, 100, 1000], 'kernel': ['linear']},\n",
              "                         {'C': [1, 10, 100, 1000], 'gamma': [0.001, 0.0001],\n",
              "                          'kernel': ['rbf']}],\n",
              "             pre_dispatch='2*n_jobs', refit=True, return_train_score=False,\n",
              "             scoring=None, verbose=0)"
            ]
          },
          "metadata": {
            "tags": []
          },
          "execution_count": 11
        }
      ]
    },
    {
      "cell_type": "code",
      "metadata": {
        "id": "_Ia2hDIlRiLS",
        "outputId": "3f7c7842-521c-4cce-dc19-923e9692dec0",
        "colab": {
          "base_uri": "https://localhost:8080/"
        }
      },
      "source": [
        "y_pred = clf.predict(x_test)\n",
        "y_pred"
      ],
      "execution_count": 12,
      "outputs": [
        {
          "output_type": "execute_result",
          "data": {
            "text/plain": [
              "array([1, 0, 1, 2, 2, 1, 0, 1, 1, 0, 2, 0, 1, 2, 2, 1, 2, 2, 0, 1, 2, 2,\n",
              "       2, 0, 0, 0, 1])"
            ]
          },
          "metadata": {
            "tags": []
          },
          "execution_count": 12
        }
      ]
    },
    {
      "cell_type": "code",
      "metadata": {
        "id": "4fjbiCEGRmcT",
        "outputId": "9dacc0c2-58b5-4ae8-aad1-d1c1c1144bdd",
        "colab": {
          "base_uri": "https://localhost:8080/"
        }
      },
      "source": [
        "y_test"
      ],
      "execution_count": 13,
      "outputs": [
        {
          "output_type": "execute_result",
          "data": {
            "text/plain": [
              "array([1, 0, 1, 2, 2, 1, 0, 1, 1, 0, 1, 0, 1, 2, 2, 1, 2, 1, 0, 1, 2, 2,\n",
              "       2, 0, 0, 0, 1])"
            ]
          },
          "metadata": {
            "tags": []
          },
          "execution_count": 13
        }
      ]
    },
    {
      "cell_type": "code",
      "metadata": {
        "id": "FgUDc_ScRq8r"
      },
      "source": [
        "from sklearn.metrics import accuracy_score,confusion_matrix"
      ],
      "execution_count": 14,
      "outputs": []
    },
    {
      "cell_type": "code",
      "metadata": {
        "id": "twasDRqZRuqO",
        "outputId": "13406cb5-9971-446b-d5d5-4f1870790e38",
        "colab": {
          "base_uri": "https://localhost:8080/"
        }
      },
      "source": [
        "accuracy_score(y_pred,y_test)"
      ],
      "execution_count": 15,
      "outputs": [
        {
          "output_type": "execute_result",
          "data": {
            "text/plain": [
              "0.9259259259259259"
            ]
          },
          "metadata": {
            "tags": []
          },
          "execution_count": 15
        }
      ]
    },
    {
      "cell_type": "code",
      "metadata": {
        "id": "APRgtl3LAWB5"
      },
      "source": [
        "# Using confusion matrix and classification report"
      ],
      "execution_count": null,
      "outputs": []
    },
    {
      "cell_type": "code",
      "metadata": {
        "id": "FQG2HG4oRym5",
        "outputId": "e01a85c9-bae9-4e64-cf58-a509f6f1d5e1",
        "colab": {
          "base_uri": "https://localhost:8080/"
        }
      },
      "source": [
        "confusion_matrix(y_pred,y_test)"
      ],
      "execution_count": 16,
      "outputs": [
        {
          "output_type": "execute_result",
          "data": {
            "text/plain": [
              "array([[8, 0, 0],\n",
              "       [0, 9, 0],\n",
              "       [0, 2, 8]])"
            ]
          },
          "metadata": {
            "tags": []
          },
          "execution_count": 16
        }
      ]
    },
    {
      "cell_type": "code",
      "metadata": {
        "id": "UMsk1ea1SAe9"
      },
      "source": [
        "# Save the model using pickle library\n",
        "import pickle\n",
        "pickle.dump(clf,open('img_model.p','wb'))"
      ],
      "execution_count": 17,
      "outputs": []
    },
    {
      "cell_type": "code",
      "metadata": {
        "id": "VMAQnSiDSHS_"
      },
      "source": [
        "model = pickle.load(open('img_model.p','rb'))"
      ],
      "execution_count": 19,
      "outputs": []
    },
    {
      "cell_type": "code",
      "metadata": {
        "id": "x1GxxpVPA7Ek"
      },
      "source": [
        "# predict a new images"
      ],
      "execution_count": null,
      "outputs": []
    },
    {
      "cell_type": "code",
      "metadata": {
        "id": "mb9uKs1BSMgN",
        "outputId": "4b0ecc8c-dcc8-47ad-c035-6f3d9f8e5f46",
        "colab": {
          "base_uri": "https://localhost:8080/",
          "height": 324
        }
      },
      "source": [
        "# Testing a new image \n",
        "flat_data = []\n",
        "ur1 = input('Enter your URL')\n",
        "img = imread(ur1)\n",
        "img_resized = resize(img,(150,150,3))\n",
        "flat_data.append(img_resized.flatten())\n",
        "flat_data = np.array(flat_data)\n",
        "print(img.shape)\n",
        "plt.imshow(img_resized)\n",
        "y_out = model.predict(flat_data)\n",
        "y_out = CATEGORIES[y_out[0]]\n",
        "print(f'PREDICTED OUTPUT:{y_out}')"
      ],
      "execution_count": 27,
      "outputs": [
        {
          "output_type": "stream",
          "text": [
            "Enter your URLhttps://www.cdc.gov/flu/images/other/flu-in-cats-other-tp4.jpg\n",
            "(360, 600, 3)\n",
            "PREDICTED OUTPUT:cats\n"
          ],
          "name": "stdout"
        },
        {
          "output_type": "display_data",
          "data": {
            "image/png": "[encoded data removed]",
            "text/plain": [
              "<Figure size 432x288 with 1 Axes>"
            ]
          },
          "metadata": {
            "tags": [],
            "needs_background": "light"
          }
        }
      ]
    },
    {
      "cell_type": "code",
      "metadata": {
        "id": "RADjRjKrSRw6"
      },
      "source": [
        ""
      ],
      "execution_count": null,
      "outputs": []
    }
  ]
}